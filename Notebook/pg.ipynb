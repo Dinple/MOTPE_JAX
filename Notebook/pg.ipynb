{
 "cells": [
  {
   "cell_type": "code",
   "execution_count": null,
   "metadata": {},
   "outputs": [],
   "source": [
    "import jax.numpy as jnp\n",
    "from jax import lax\n",
    "import math# NDSort is not the same as argsort !!!\n",
    "toy = jnp.array([[math.inf, math.inf], [3, 4], [5,6]])\n",
    "print(toy.shape)\n",
    "# print(toy)\n",
    "# print(toy.T)\n",
    "# jnp.swapaxes(toy, 0, 1)\n",
    "# two copies along axis 0, one copy along axis 1, one copy along axis 2\n",
    "toy_extend = jnp.tile(toy, (toy.shape[0], 1, 1))\n",
    "\n",
    "toy_swp = jnp.swapaxes(toy_extend, 0, 1)\n",
    "print(\"toy_extend\", toy_extend.shape, toy_extend[:,:,0])\n",
    "print(\"toy_swp\", toy_swp.shape, toy_swp[:,:,0])\n",
    "# weakly dominate\n",
    "# print(jnp.all(toy_extend <= toy_swp, axis=2))\n",
    "# strongly dominate\n",
    "print(jnp.all(toy_extend < toy_swp, axis=2))\n",
    "# does toy_extend (list of all f val) smaller than toy_swp (one particular entry of f_val)\n",
    "# if the particular entry is dominated (r=1) than the returned entries should be False\n",
    "# summing this up gives you an entry of 0 in domi array\n",
    "# this indicates where the particular entry is ranked\n",
    "domi = jnp.sum(jnp.all(toy_extend < toy_swp, axis=2), axis=1)\n",
    "\n",
    "toy_pt = toy.copy()\n",
    "ranks = jnp.zeros(len(toy_pt))\n",
    "ranks = ranks.at[domi == 0].set(1)\n",
    "print(\"ranks\", ranks)\n",
    "print(\"domi == 0\", domi==0)\n",
    "toy_pt.at[domi == 0].set(jnp.finfo(jnp.float32).max) #why this is an error\n",
    "# ranks.at[domi == 0].set(1)\n"
   ]
  }
 ],
 "metadata": {
  "language_info": {
   "name": "python"
  },
  "orig_nbformat": 4
 },
 "nbformat": 4,
 "nbformat_minor": 2
}
